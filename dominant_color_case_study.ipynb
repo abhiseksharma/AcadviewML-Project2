{
 "cells": [
  {
   "cell_type": "code",
   "execution_count": 1,
   "metadata": {
    "collapsed": true
   },
   "outputs": [],
   "source": [
    "import cv2\n",
    "import numpy as np"
   ]
  },
  {
   "cell_type": "code",
   "execution_count": 2,
   "metadata": {
    "collapsed": true
   },
   "outputs": [],
   "source": [
    "image = cv2.imread('image.jpg')"
   ]
  },
  {
   "cell_type": "code",
   "execution_count": 3,
   "metadata": {
    "collapsed": true
   },
   "outputs": [],
   "source": [
    "image = cv2.cvtColor(image, cv2.COLOR_BGR2RGB)"
   ]
  },
  {
   "cell_type": "code",
   "execution_count": 4,
   "metadata": {
    "collapsed": true
   },
   "outputs": [],
   "source": [
    "image = image.reshape((image.shape[0] * image.shape[1], 3))"
   ]
  },
  {
   "cell_type": "code",
   "execution_count": 5,
   "metadata": {
    "collapsed": true
   },
   "outputs": [],
   "source": [
    "from sklearn.cluster import KMeans\n",
    "k = 3"
   ]
  },
  {
   "cell_type": "code",
   "execution_count": 6,
   "metadata": {
    "collapsed": true
   },
   "outputs": [],
   "source": [
    "clf = KMeans(n_clusters = k, n_jobs=4)"
   ]
  },
  {
   "cell_type": "code",
   "execution_count": 7,
   "metadata": {},
   "outputs": [
    {
     "data": {
      "text/plain": [
       "KMeans(algorithm='auto', copy_x=True, init='k-means++', max_iter=300,\n",
       "    n_clusters=3, n_init=10, n_jobs=4, precompute_distances='auto',\n",
       "    random_state=None, tol=0.0001, verbose=0)"
      ]
     },
     "execution_count": 7,
     "metadata": {},
     "output_type": "execute_result"
    }
   ],
   "source": [
    "clf.fit(image)"
   ]
  },
  {
   "cell_type": "code",
   "execution_count": 8,
   "metadata": {
    "collapsed": true
   },
   "outputs": [],
   "source": [
    "labels = clf.labels_"
   ]
  },
  {
   "cell_type": "code",
   "execution_count": 9,
   "metadata": {},
   "outputs": [
    {
     "data": {
      "text/plain": [
       "array([1, 1, 1, ..., 1, 1, 1], dtype=int32)"
      ]
     },
     "execution_count": 9,
     "metadata": {},
     "output_type": "execute_result"
    }
   ],
   "source": [
    "labels"
   ]
  },
  {
   "cell_type": "code",
   "execution_count": 10,
   "metadata": {
    "collapsed": true
   },
   "outputs": [],
   "source": [
    "label = [0] * k"
   ]
  },
  {
   "cell_type": "code",
   "execution_count": 11,
   "metadata": {
    "collapsed": true
   },
   "outputs": [],
   "source": [
    "for i in labels:\n",
    "    label[i] += 1"
   ]
  },
  {
   "cell_type": "code",
   "execution_count": 12,
   "metadata": {},
   "outputs": [
    {
     "data": {
      "text/plain": [
       "[366816, 193957, 58155]"
      ]
     },
     "execution_count": 12,
     "metadata": {},
     "output_type": "execute_result"
    }
   ],
   "source": [
    "label"
   ]
  },
  {
   "cell_type": "code",
   "execution_count": 13,
   "metadata": {
    "collapsed": true
   },
   "outputs": [],
   "source": [
    "label = [float(x)/ sum(label) * 100 for x in label]"
   ]
  },
  {
   "cell_type": "code",
   "execution_count": 14,
   "metadata": {},
   "outputs": [
    {
     "data": {
      "text/plain": [
       "[59.2663443890081, 31.337570767520617, 9.396084843471291]"
      ]
     },
     "execution_count": 14,
     "metadata": {},
     "output_type": "execute_result"
    }
   ],
   "source": [
    "label"
   ]
  },
  {
   "cell_type": "code",
   "execution_count": 15,
   "metadata": {
    "collapsed": true
   },
   "outputs": [],
   "source": [
    "color = clf.cluster_centers_"
   ]
  },
  {
   "cell_type": "code",
   "execution_count": 16,
   "metadata": {},
   "outputs": [
    {
     "data": {
      "text/plain": [
       "array([[  22.43918902,   21.90827306,   20.96791588],\n",
       "       [ 254.18388612,  254.18080296,  254.17905   ],\n",
       "       [ 177.66351412,  155.04539671,   90.56219693]])"
      ]
     },
     "execution_count": 16,
     "metadata": {},
     "output_type": "execute_result"
    }
   ],
   "source": [
    "color"
   ]
  },
  {
   "cell_type": "code",
   "execution_count": 17,
   "metadata": {
    "collapsed": true
   },
   "outputs": [],
   "source": [
    "color = [ [int(x) for x in c ] for c in color]"
   ]
  },
  {
   "cell_type": "code",
   "execution_count": 18,
   "metadata": {},
   "outputs": [
    {
     "data": {
      "text/plain": [
       "[[22, 21, 20], [254, 254, 254], [177, 155, 90]]"
      ]
     },
     "execution_count": 18,
     "metadata": {},
     "output_type": "execute_result"
    }
   ],
   "source": [
    "color"
   ]
  },
  {
   "cell_type": "code",
   "execution_count": 19,
   "metadata": {
    "collapsed": true
   },
   "outputs": [],
   "source": [
    "import webcolors"
   ]
  },
  {
   "cell_type": "code",
   "execution_count": 20,
   "metadata": {
    "collapsed": true
   },
   "outputs": [],
   "source": [
    "color = [webcolors.rgb_to_hex(x) for x in color]"
   ]
  },
  {
   "cell_type": "code",
   "execution_count": 21,
   "metadata": {
    "collapsed": true
   },
   "outputs": [],
   "source": [
    "import matplotlib.pyplot as plt"
   ]
  },
  {
   "cell_type": "code",
   "execution_count": 22,
   "metadata": {},
   "outputs": [
    {
     "data": {
      "image/png": "[encoded data removed]",
      "text/plain": [
       "<matplotlib.figure.Figure at 0x7f0bd85327b8>"
      ]
     },
     "metadata": {},
     "output_type": "display_data"
    }
   ],
   "source": [
    "plt.pie(label, colors = color)\n",
    "plt.axis('equal')\n",
    "plt.show()"
   ]
  },
  {
   "cell_type": "code",
   "execution_count": 23,
   "metadata": {},
   "outputs": [],
   "source": [
    "# Importing All the 10 images, applying clustering and extracting color & labels\n",
    "k = 3\n",
    "image = []\n",
    "colorTriple = []\n",
    "color = []\n",
    "label = []\n",
    "for i in range(10):\n",
    "    name = 'Dominant Color Data Set/image '+ str(i+1) +'.jpg'\n",
    "    image.append(cv2.imread(name))\n",
    "    image[i] = cv2.cvtColor(image[i], cv2.COLOR_BGR2RGB)\n",
    "    image[i] = image[i].reshape((image[i].shape[0] * image[i].shape[1]), 3)\n",
    "    clf = KMeans(n_clusters = k, n_jobs=4)\n",
    "    clf.fit(image[i])\n",
    "    labels = clf.labels_\n",
    "    label.append([0] * k)\n",
    "    for x in labels: label[i][x] += 1\n",
    "    label[i] = [float(x)/ sum(label[i]) * 100 for x in label[i]]\n",
    "    color.append(clf.cluster_centers_)\n",
    "    color[i] = [[int(j) for j in x] for x in color[i]]\n",
    "    colorTriple.append(color[i])\n",
    "    color[i] = [webcolors.rgb_to_hex(x) for x in color[i]]"
   ]
  },
  {
   "cell_type": "code",
   "execution_count": 24,
   "metadata": {},
   "outputs": [
    {
     "data": {
      "image/png": "[encoded data removed]",
      "text/plain": [
       "<matplotlib.figure.Figure at 0x7f0bd81acb00>"
      ]
     },
     "metadata": {},
     "output_type": "display_data"
    }
   ],
   "source": [
    "plt.pie(label[7], colors = color[7])\n",
    "plt.axis('equal')\n",
    "plt.show()"
   ]
  },
  {
   "cell_type": "code",
   "execution_count": 25,
   "metadata": {},
   "outputs": [
    {
     "data": {
      "text/plain": [
       "[['#a6595c', '#d9d4d0', '#30325b'],\n",
       " ['#2f3022', '#d6cbc7', '#70624d'],\n",
       " ['#fbfaf8', '#5c4c47', '#d8b59c'],\n",
       " ['#261b20', '#8c8688', '#6c484e'],\n",
       " ['#c1a093', '#322b2c', '#fbfbfa'],\n",
       " ['#f0efee', '#12162d', '#c18f78'],\n",
       " ['#edeaeb', '#1f1f1b', '#d0a07f'],\n",
       " ['#74737a', '#c9bdc1', '#282731'],\n",
       " ['#2c2d40', '#f0f0f0', '#c4afaa'],\n",
       " ['#852e34', '#9a9192', '#471215']]"
      ]
     },
     "execution_count": 25,
     "metadata": {},
     "output_type": "execute_result"
    }
   ],
   "source": [
    "color"
   ]
  },
  {
   "cell_type": "code",
   "execution_count": 26,
   "metadata": {},
   "outputs": [
    {
     "ename": "ValueError",
     "evalue": "'#30325b' has no defined color name in css3",
     "output_type": "error",
     "traceback": [
      "\u001b[0;31m---------------------------------------------------------------------------\u001b[0m",
      "\u001b[0;31mValueError\u001b[0m                                Traceback (most recent call last)",
      "\u001b[0;32m<ipython-input-26-addcc49b1730>\u001b[0m in \u001b[0;36m<module>\u001b[0;34m()\u001b[0m\n\u001b[1;32m      1\u001b[0m \u001b[0;31m# This could have been best way but all the hex value don't contain name associated with it.\u001b[0m\u001b[0;34m\u001b[0m\u001b[0;34m\u001b[0m\u001b[0m\n\u001b[0;32m----> 2\u001b[0;31m \u001b[0mwebcolors\u001b[0m\u001b[0;34m.\u001b[0m\u001b[0mhex_to_name\u001b[0m\u001b[0;34m(\u001b[0m\u001b[0;34m'#30325b'\u001b[0m\u001b[0;34m)\u001b[0m\u001b[0;34m\u001b[0m\u001b[0m\n\u001b[0m",
      "\u001b[0;32m/home/abs/anaconda3/lib/python3.6/site-packages/webcolors.py\u001b[0m in \u001b[0;36mhex_to_name\u001b[0;34m(hex_value, spec)\u001b[0m\n\u001b[1;32m    466\u001b[0m     \u001b[0;32mif\u001b[0m \u001b[0mname\u001b[0m \u001b[0;32mis\u001b[0m \u001b[0;32mNone\u001b[0m\u001b[0;34m:\u001b[0m\u001b[0;34m\u001b[0m\u001b[0m\n\u001b[1;32m    467\u001b[0m         raise ValueError(\n\u001b[0;32m--> 468\u001b[0;31m             \u001b[0;34mu\"'{}' has no defined color name in {}\"\u001b[0m\u001b[0;34m.\u001b[0m\u001b[0mformat\u001b[0m\u001b[0;34m(\u001b[0m\u001b[0mhex_value\u001b[0m\u001b[0;34m,\u001b[0m \u001b[0mspec\u001b[0m\u001b[0;34m)\u001b[0m\u001b[0;34m\u001b[0m\u001b[0m\n\u001b[0m\u001b[1;32m    469\u001b[0m         )\n\u001b[1;32m    470\u001b[0m     \u001b[0;32mreturn\u001b[0m \u001b[0mname\u001b[0m\u001b[0;34m\u001b[0m\u001b[0m\n",
      "\u001b[0;31mValueError\u001b[0m: '#30325b' has no defined color name in css3"
     ]
    }
   ],
   "source": [
    "# This could have been best way but all the hex value don't contain name associated with it.\n",
    "webcolors.hex_to_name('#30325b')"
   ]
  },
  {
   "cell_type": "code",
   "execution_count": 27,
   "metadata": {},
   "outputs": [
    {
     "data": {
      "text/plain": [
       "[[166, 89, 92],\n",
       " [217, 212, 208],\n",
       " [48, 50, 91],\n",
       " [47, 48, 34],\n",
       " [214, 203, 199],\n",
       " [112, 98, 77],\n",
       " [251, 250, 248],\n",
       " [92, 76, 71],\n",
       " [216, 181, 156],\n",
       " [38, 27, 32],\n",
       " [140, 134, 136],\n",
       " [108, 72, 78],\n",
       " [193, 160, 147],\n",
       " [50, 43, 44],\n",
       " [251, 251, 250],\n",
       " [240, 239, 238],\n",
       " [18, 22, 45],\n",
       " [193, 143, 120],\n",
       " [237, 234, 235],\n",
       " [31, 31, 27],\n",
       " [208, 160, 127],\n",
       " [116, 115, 122],\n",
       " [201, 189, 193],\n",
       " [40, 39, 49],\n",
       " [44, 45, 64],\n",
       " [240, 240, 240],\n",
       " [196, 175, 170],\n",
       " [133, 46, 52],\n",
       " [154, 145, 146],\n",
       " [71, 18, 21]]"
      ]
     },
     "execution_count": 27,
     "metadata": {},
     "output_type": "execute_result"
    }
   ],
   "source": [
    "colortrip = [j for i in colorTriple for j in i]\n",
    "colortrip"
   ]
  },
  {
   "cell_type": "code",
   "execution_count": 28,
   "metadata": {},
   "outputs": [
    {
     "data": {
      "text/plain": [
       "[23.219401041666668,\n",
       " 29.593098958333336,\n",
       " 47.1875,\n",
       " 57.5537109375,\n",
       " 27.477864583333332,\n",
       " 14.968424479166668,\n",
       " 67.9765625,\n",
       " 15.201497395833332,\n",
       " 16.821940104166664,\n",
       " 22.039713541666668,\n",
       " 63.069661458333336,\n",
       " 14.890624999999998,\n",
       " 9.6064453125,\n",
       " 31.126627604166668,\n",
       " 59.26692708333333,\n",
       " 71.4814453125,\n",
       " 23.8154296875,\n",
       " 4.703125,\n",
       " 65.16243489583333,\n",
       " 25.804361979166668,\n",
       " 9.033203125,\n",
       " 28.698893229166668,\n",
       " 14.411458333333332,\n",
       " 56.88964843749999,\n",
       " 58.611979166666664,\n",
       " 32.069986979166664,\n",
       " 9.318033854166668,\n",
       " 48.77571614583333,\n",
       " 21.621419270833332,\n",
       " 29.602864583333332]"
      ]
     },
     "execution_count": 28,
     "metadata": {},
     "output_type": "execute_result"
    }
   ],
   "source": [
    "label = [j for i in label for j in i]\n",
    "label"
   ]
  },
  {
   "cell_type": "code",
   "execution_count": 29,
   "metadata": {
    "collapsed": true
   },
   "outputs": [],
   "source": [
    "colors = [['Black', [0,0,0]],\n",
    " ['Blue', [0,0,255]],\n",
    " ['Brown', [165,42,42]],    \n",
    " ['Cream', [255,255,204]],   \n",
    " ['Green',  [0,128,0]],        \n",
    " ['Grey',   [128,128,128]],\n",
    " ['Yellow', [255,255,0]],\n",
    " ['Orange', [255,165,0]],          \n",
    " ['Pink', [255,192,203]], \n",
    " ['Red', [255,0,0]],  \n",
    " ['Purple', [128,0,128]],\n",
    " ['Tan', [210,180,140]],\n",
    " ['Turquoise', [64,224,208]],\n",
    " ['White', [255,255,255]]]"
   ]
  },
  {
   "cell_type": "code",
   "execution_count": 30,
   "metadata": {},
   "outputs": [
    {
     "data": {
      "text/plain": [
       "['Grey',\n",
       " 'Pink',\n",
       " 'Purple',\n",
       " 'Black',\n",
       " 'Pink',\n",
       " 'Grey',\n",
       " 'White',\n",
       " 'Grey',\n",
       " 'Tan',\n",
       " 'Black',\n",
       " 'Grey',\n",
       " 'Brown',\n",
       " 'Tan',\n",
       " 'Black',\n",
       " 'White',\n",
       " 'White',\n",
       " 'Black',\n",
       " 'Tan',\n",
       " 'White',\n",
       " 'Black',\n",
       " 'Tan',\n",
       " 'Grey',\n",
       " 'Tan',\n",
       " 'Black',\n",
       " 'Black',\n",
       " 'White',\n",
       " 'Tan',\n",
       " 'Brown',\n",
       " 'Grey',\n",
       " 'Black']"
      ]
     },
     "execution_count": 30,
     "metadata": {},
     "output_type": "execute_result"
    }
   ],
   "source": [
    "# Finding Nearest color\n",
    "import math\n",
    "cols = []\n",
    "for i in colortrip:\n",
    "    dist = 999\n",
    "    color = ''\n",
    "    for j in colors:\n",
    "        val = math.sqrt((j[1][0]-i[0])**2+(j[1][1]-i[1])**2+(j[1][2]-i[2])**2)\n",
    "        if val < dist:\n",
    "            dist = val\n",
    "            color = j[0]\n",
    "    cols.append(color)\n",
    "cols"
   ]
  },
  {
   "cell_type": "code",
   "execution_count": 31,
   "metadata": {},
   "outputs": [
    {
     "data": {
      "text/plain": [
       "{'Black': 30.54443359375,\n",
       " 'Brown': 6.3666341145833325,\n",
       " 'Grey': 16.6779296875,\n",
       " 'Pink': 5.7070963541666675,\n",
       " 'Purple': 4.71875,\n",
       " 'Tan': 6.389420572916667,\n",
       " 'White': 29.595735677083333}"
      ]
     },
     "execution_count": 31,
     "metadata": {},
     "output_type": "execute_result"
    }
   ],
   "source": [
    "color_total = {}\n",
    "for i, val in enumerate(cols):\n",
    "    if val not in color_total:\n",
    "        color_total[val] = 0\n",
    "    color_total[val] += label[i]\n",
    "for i in color_total:\n",
    "    color_total[i] /= 10\n",
    "color_total"
   ]
  },
  {
   "cell_type": "code",
   "execution_count": 32,
   "metadata": {},
   "outputs": [],
   "source": [
    "%matplotlib inline\n",
    "import seaborn as sns\n",
    "sns.set()"
   ]
  },
  {
   "cell_type": "code",
   "execution_count": 33,
   "metadata": {},
   "outputs": [],
   "source": [
    "x = [i for i in color_total]\n",
    "y = [color_total[i] for i in x]"
   ]
  },
  {
   "cell_type": "code",
   "execution_count": 34,
   "metadata": {},
   "outputs": [
    {
     "data": {
      "text/plain": [
       "<matplotlib.axes._subplots.AxesSubplot at 0x7f0bc442e780>"
      ]
     },
     "execution_count": 34,
     "metadata": {},
     "output_type": "execute_result"
    },
    {
     "data": {
      "image/png": "[encoded data removed]",
      "text/plain": [
       "<matplotlib.figure.Figure at 0x7f0bd81acba8>"
      ]
     },
     "metadata": {},
     "output_type": "display_data"
    }
   ],
   "source": [
    "#Overall percentage of color across 10 Images\n",
    "sns.barplot(x, y)"
   ]
  }
 ],
 "metadata": {
  "kernelspec": {
   "display_name": "Python 3",
   "language": "python",
   "name": "python3"
  },
  "language_info": {
   "codemirror_mode": {
    "name": "ipython",
    "version": 3
   },
   "file_extension": ".py",
   "mimetype": "text/x-python",
   "name": "python",
   "nbconvert_exporter": "python",
   "pygments_lexer": "ipython3",
   "version": "3.6.1"
  }
 },
 "nbformat": 4,
 "nbformat_minor": 2
}
